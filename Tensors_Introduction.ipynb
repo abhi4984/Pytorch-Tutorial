{
  "nbformat": 4,
  "nbformat_minor": 0,
  "metadata": {
    "colab": {
      "name": "Tensors_Introduction.ipynb",
      "provenance": [],
      "collapsed_sections": []
    },
    "kernelspec": {
      "name": "python3",
      "display_name": "Python 3"
    },
    "language_info": {
      "name": "python"
    },
    "accelerator": "GPU"
  },
  "cells": [
    {
      "cell_type": "markdown",
      "source": [
        "# Tensors"
      ],
      "metadata": {
        "id": "UiuPyUH1eEmg"
      }
    },
    {
      "cell_type": "markdown",
      "source": [
        "Tensors are a specialized data structure that are very similar to arrays and matrices. In PyTorch, we use tensors to encode the inputs and outputs of a model, as well as the model’s parameters."
      ],
      "metadata": {
        "id": "0-6mAS8beNJf"
      }
    },
    {
      "cell_type": "code",
      "source": [
        "import torch\n",
        "import numpy as np"
      ],
      "metadata": {
        "id": "WmHEgGnSeCzy"
      },
      "execution_count": 2,
      "outputs": []
    },
    {
      "cell_type": "markdown",
      "source": [
        "# Initializing a Tensor\n",
        "\n",
        "Tensors can be initialized in various ways. Take a look at the following examples:"
      ],
      "metadata": {
        "id": "B2uDEGJPe34T"
      }
    },
    {
      "cell_type": "markdown",
      "source": [
        "\n",
        "\n",
        "**Directly from data**\n",
        "\n",
        "\n",
        "Tensors can be created directly from data. The data type is automatically inferred."
      ],
      "metadata": {
        "id": "8EYXI8MVepmQ"
      }
    },
    {
      "cell_type": "code",
      "source": [
        "data = [[1, 2],[3, 4]]\n",
        "x_data = torch.tensor(data)\n",
        "x_data"
      ],
      "metadata": {
        "colab": {
          "base_uri": "https://localhost:8080/"
        },
        "id": "QiRJldTVenvF",
        "outputId": "0a364297-d806-4f73-f1e1-7fc3596dc927"
      },
      "execution_count": 3,
      "outputs": [
        {
          "output_type": "execute_result",
          "data": {
            "text/plain": [
              "tensor([[1, 2],\n",
              "        [3, 4]])"
            ]
          },
          "metadata": {},
          "execution_count": 3
        }
      ]
    },
    {
      "cell_type": "markdown",
      "source": [
        "**From Numpy Arrays**"
      ],
      "metadata": {
        "id": "YerwLScufHjv"
      }
    },
    {
      "cell_type": "code",
      "source": [
        "data = [[1, 2],[3, 4]]\n",
        "np_array = np.array(data)\n",
        "x_np = torch.from_numpy(np_array)\n",
        "x_np"
      ],
      "metadata": {
        "colab": {
          "base_uri": "https://localhost:8080/"
        },
        "id": "R6u7cZw7fC7a",
        "outputId": "c97fe57c-8701-4fb9-8ec8-fe711da9c9de"
      },
      "execution_count": 4,
      "outputs": [
        {
          "output_type": "execute_result",
          "data": {
            "text/plain": [
              "tensor([[1, 2],\n",
              "        [3, 4]])"
            ]
          },
          "metadata": {},
          "execution_count": 4
        }
      ]
    },
    {
      "cell_type": "markdown",
      "source": [
        "**From another tensor:**\n",
        "\n",
        "\n",
        "The new tensor retains the properties (shape, datatype) of the argument tensor, unless explicitly overridden."
      ],
      "metadata": {
        "id": "mzBNDTHNft2m"
      }
    },
    {
      "cell_type": "code",
      "source": [
        "x_ones = torch.ones_like(x_data)\n",
        "print(f\"Ones Tensor : {x_ones}\")\n",
        "\n",
        "x_rand = torch.rand_like(x_data,dtype=torch.float)\n",
        "print(f\"Rand Tensor : {x_rand}\")"
      ],
      "metadata": {
        "colab": {
          "base_uri": "https://localhost:8080/"
        },
        "id": "9fJU2UJSfS9q",
        "outputId": "f1ceeeca-0d76-4081-8573-0ec940514c83"
      },
      "execution_count": 5,
      "outputs": [
        {
          "output_type": "stream",
          "name": "stdout",
          "text": [
            "Ones Tensor : tensor([[1, 1],\n",
            "        [1, 1]])\n",
            "Rand Tensor : tensor([[0.9231, 0.0695],\n",
            "        [0.5461, 0.8302]])\n"
          ]
        }
      ]
    },
    {
      "cell_type": "markdown",
      "source": [
        "**With random or constant values:**\n",
        "\n",
        "\n",
        "\"*shape*\" is a tuple of tensor dimensions. In the functions below, it determines the dimensionality of the output tensor."
      ],
      "metadata": {
        "id": "kyGzY2Cvg099"
      }
    },
    {
      "cell_type": "code",
      "source": [
        "shape = (3,4)\n",
        "ones_tensor = torch.ones(shape)\n",
        "rand_tensor = torch.rand(shape)\n",
        "zeros_tensor = torch.zeros(shape)\n",
        "print(rand_tensor)\n",
        "print(ones_tensor)\n",
        "print(zeros_tensor)"
      ],
      "metadata": {
        "colab": {
          "base_uri": "https://localhost:8080/"
        },
        "id": "hFTlxZcIf2j8",
        "outputId": "a173c72b-b04b-4ef9-fadc-a483cb4da6d5"
      },
      "execution_count": 6,
      "outputs": [
        {
          "output_type": "stream",
          "name": "stdout",
          "text": [
            "tensor([[0.7055, 0.6184, 0.3681, 0.8862],\n",
            "        [0.1047, 0.2932, 0.7549, 0.3610],\n",
            "        [0.0844, 0.2654, 0.9197, 0.8630]])\n",
            "tensor([[1., 1., 1., 1.],\n",
            "        [1., 1., 1., 1.],\n",
            "        [1., 1., 1., 1.]])\n",
            "tensor([[0., 0., 0., 0.],\n",
            "        [0., 0., 0., 0.],\n",
            "        [0., 0., 0., 0.]])\n"
          ]
        }
      ]
    },
    {
      "cell_type": "markdown",
      "source": [
        "# Attributes of a Tensor\n",
        "\n",
        "Tensor attributes describe their shape, datatype, and the device on which they are stored."
      ],
      "metadata": {
        "id": "gw452GPih_Zr"
      }
    },
    {
      "cell_type": "code",
      "source": [
        "tensor1 = torch.rand((3,4))\n",
        "print(f\"Shape of the Tensor is : {tensor1.shape}\")\n",
        "print(f\"Data-Type of the Tensor is  : {tensor1.dtype}\")\n",
        "print(f\"Device on which Tensor Stored : {tensor1.device}\")"
      ],
      "metadata": {
        "colab": {
          "base_uri": "https://localhost:8080/"
        },
        "id": "IqrjKuufhUFh",
        "outputId": "4aabef38-3437-4627-e8c8-e7f43e37443a"
      },
      "execution_count": 7,
      "outputs": [
        {
          "output_type": "stream",
          "name": "stdout",
          "text": [
            "Shape of the Tensor is : torch.Size([3, 4])\n",
            "Data-Type of the Tensor is  : torch.float32\n",
            "Device on which Tensor Stored : cpu\n"
          ]
        }
      ]
    },
    {
      "cell_type": "markdown",
      "source": [
        "# Operations on Tensors\n",
        "\n",
        "Over 100 tensor operations, including arithmetic, linear algebra, matrix manipulation (transposing, indexing, slicing), sampling and more are comprehensively described here.\n",
        "\n",
        "Each of these operations can be run on the GPU (at typically higher speeds than on a CPU). If you’re using Colab, allocate a GPU by going to Runtime > Change runtime type > GPU.\n",
        "\n",
        "By default, tensors are created on the CPU. We need to explicitly move tensors to the GPU using .to method (after checking for GPU availability). Keep in mind that copying large tensors across devices can be expensive in terms of time and memory!"
      ],
      "metadata": {
        "id": "S7WVaNLZiwXX"
      }
    },
    {
      "cell_type": "code",
      "source": [
        "if torch.cuda.is_available():\n",
        "  tensor1.to('cuda')"
      ],
      "metadata": {
        "id": "NUn5jazCic9q"
      },
      "execution_count": 8,
      "outputs": []
    },
    {
      "cell_type": "code",
      "source": [
        "tensor = torch.rand((4,4))\n",
        "print(tensor)"
      ],
      "metadata": {
        "colab": {
          "base_uri": "https://localhost:8080/"
        },
        "id": "d7haO_cMi_zf",
        "outputId": "ce2f5d06-45a2-4e1d-e616-e882d4180122"
      },
      "execution_count": 9,
      "outputs": [
        {
          "output_type": "stream",
          "name": "stdout",
          "text": [
            "tensor([[0.0654, 0.0247, 0.1681, 0.0601],\n",
            "        [0.6868, 0.8884, 0.0983, 0.1213],\n",
            "        [0.3658, 0.2034, 0.3875, 0.0372],\n",
            "        [0.8083, 0.0651, 0.0968, 0.6325]])\n"
          ]
        }
      ]
    },
    {
      "cell_type": "markdown",
      "source": [
        "### Standard numpy-like indexing and slicing:"
      ],
      "metadata": {
        "id": "RKUM-vqZkOjI"
      }
    },
    {
      "cell_type": "code",
      "source": [
        "print(\"Frist Row : \",tensor[0,:])\n",
        "print(\"Second Row : \",tensor[1,:])\n",
        "print(\"Third Row : \",tensor[2,:])\n",
        "print(\"Fourth Row : \",tensor[3,:])"
      ],
      "metadata": {
        "colab": {
          "base_uri": "https://localhost:8080/"
        },
        "id": "zulQX5EejaDo",
        "outputId": "3565f8ec-fa2b-4556-937f-48a7638c372a"
      },
      "execution_count": 10,
      "outputs": [
        {
          "output_type": "stream",
          "name": "stdout",
          "text": [
            "Frist Row :  tensor([0.0654, 0.0247, 0.1681, 0.0601])\n",
            "Second Row :  tensor([0.6868, 0.8884, 0.0983, 0.1213])\n",
            "Third Row :  tensor([0.3658, 0.2034, 0.3875, 0.0372])\n",
            "Fourth Row :  tensor([0.8083, 0.0651, 0.0968, 0.6325])\n"
          ]
        }
      ]
    },
    {
      "cell_type": "code",
      "source": [
        "print(\"First Column : \",tensor[:,0])\n",
        "print(\"Second Column : \",tensor[:,1])\n",
        "print(\"Third Column : \",tensor[:,2])\n",
        "print(\"Fourth Column : \",tensor[:,3])"
      ],
      "metadata": {
        "colab": {
          "base_uri": "https://localhost:8080/"
        },
        "id": "I-rwDaW2khgG",
        "outputId": "fc7f212e-cc78-49b3-9ed0-c59e05f94a06"
      },
      "execution_count": 11,
      "outputs": [
        {
          "output_type": "stream",
          "name": "stdout",
          "text": [
            "First Column :  tensor([0.0654, 0.6868, 0.3658, 0.8083])\n",
            "Second Column :  tensor([0.0247, 0.8884, 0.2034, 0.0651])\n",
            "Third Column :  tensor([0.1681, 0.0983, 0.3875, 0.0968])\n",
            "Fourth Column :  tensor([0.0601, 0.1213, 0.0372, 0.6325])\n"
          ]
        }
      ]
    },
    {
      "cell_type": "code",
      "source": [
        "print(\"Matrix in between : \",tensor[1:3,1:3])"
      ],
      "metadata": {
        "colab": {
          "base_uri": "https://localhost:8080/"
        },
        "id": "_0edGGuHk37M",
        "outputId": "b423100b-33ec-4dce-809d-9bc1e094b31d"
      },
      "execution_count": 12,
      "outputs": [
        {
          "output_type": "stream",
          "name": "stdout",
          "text": [
            "Matrix in between :  tensor([[0.8884, 0.0983],\n",
            "        [0.2034, 0.3875]])\n"
          ]
        }
      ]
    },
    {
      "cell_type": "markdown",
      "source": [
        "**Joining tensors** \n",
        "\n",
        "We can use torch.cat to concatenate a sequence of tensors along a given dimension. See also torch.stack, another tensor joining op that is subtly different from torch.cat."
      ],
      "metadata": {
        "id": "OD5kbIeypmrB"
      }
    },
    {
      "cell_type": "code",
      "source": [
        "t1 = torch.cat([tensor, tensor, tensor], dim=0)\n",
        "print(t1.shape)\n"
      ],
      "metadata": {
        "colab": {
          "base_uri": "https://localhost:8080/"
        },
        "id": "v8ppKb5PlVXE",
        "outputId": "2d5fabb7-3ca4-4d24-837e-673312cfc471"
      },
      "execution_count": 13,
      "outputs": [
        {
          "output_type": "stream",
          "name": "stdout",
          "text": [
            "torch.Size([12, 4])\n"
          ]
        }
      ]
    },
    {
      "cell_type": "code",
      "source": [
        "t1 = torch.cat([tensor, tensor, tensor], dim=1)\n",
        "print(t1.shape)"
      ],
      "metadata": {
        "colab": {
          "base_uri": "https://localhost:8080/"
        },
        "id": "jx8IiVnlpBOu",
        "outputId": "7d0a9c33-3934-4018-b463-5e390ee095cf"
      },
      "execution_count": 14,
      "outputs": [
        {
          "output_type": "stream",
          "name": "stdout",
          "text": [
            "torch.Size([4, 12])\n"
          ]
        }
      ]
    },
    {
      "cell_type": "markdown",
      "source": [
        "### Airthematic Operations"
      ],
      "metadata": {
        "id": "XOqNuBiOCGZK"
      }
    },
    {
      "cell_type": "markdown",
      "source": [
        "**Multiplication of Matrix**"
      ],
      "metadata": {
        "id": "OPfLuittRMp4"
      }
    },
    {
      "cell_type": "code",
      "source": [
        "x1 = torch.rand((2,3))\n",
        "x1"
      ],
      "metadata": {
        "colab": {
          "base_uri": "https://localhost:8080/"
        },
        "id": "w83Z1tZCCHFL",
        "outputId": "97c0be0d-bdc2-43d3-9f90-cd5c5bf06d1e"
      },
      "execution_count": 20,
      "outputs": [
        {
          "output_type": "execute_result",
          "data": {
            "text/plain": [
              "tensor([[0.9793, 0.4771, 0.4542],\n",
              "        [0.8887, 0.5077, 0.8775]])"
            ]
          },
          "metadata": {},
          "execution_count": 20
        }
      ]
    },
    {
      "cell_type": "code",
      "source": [
        "x2 = torch.rand((3,2))\n",
        "x2"
      ],
      "metadata": {
        "colab": {
          "base_uri": "https://localhost:8080/"
        },
        "id": "EYGyS9rYQsL3",
        "outputId": "26bb6ba9-13c8-4877-c3b1-d40849bef3c6"
      },
      "execution_count": 23,
      "outputs": [
        {
          "output_type": "execute_result",
          "data": {
            "text/plain": [
              "tensor([[0.0858, 0.8664],\n",
              "        [0.3538, 0.0625],\n",
              "        [0.1238, 0.3449]])"
            ]
          },
          "metadata": {},
          "execution_count": 23
        }
      ]
    },
    {
      "cell_type": "markdown",
      "source": [
        "Matrix Multiplication can be done in two ways :\n",
        "1. **Using Matmul Method**\n",
        "2. **Using @**"
      ],
      "metadata": {
        "id": "dhiRxWzBR9XN"
      }
    },
    {
      "cell_type": "code",
      "source": [
        "# Using Matmul Method\n",
        "x1.matmul(x2)"
      ],
      "metadata": {
        "colab": {
          "base_uri": "https://localhost:8080/"
        },
        "id": "7_Nk_wi8RtwP",
        "outputId": "0471ee23-ccec-46c7-8aee-072436e2aa73"
      },
      "execution_count": 24,
      "outputs": [
        {
          "output_type": "execute_result",
          "data": {
            "text/plain": [
              "tensor([[0.3090, 1.0350],\n",
              "        [0.3645, 1.1043]])"
            ]
          },
          "metadata": {},
          "execution_count": 24
        }
      ]
    },
    {
      "cell_type": "code",
      "source": [
        "# Using @ Symbol\n",
        "x1 @ x2"
      ],
      "metadata": {
        "colab": {
          "base_uri": "https://localhost:8080/"
        },
        "id": "ZMvPqtvIR28T",
        "outputId": "67c3963e-8b9d-4595-e5ce-a5a7b253b79e"
      },
      "execution_count": 25,
      "outputs": [
        {
          "output_type": "execute_result",
          "data": {
            "text/plain": [
              "tensor([[0.3090, 1.0350],\n",
              "        [0.3645, 1.1043]])"
            ]
          },
          "metadata": {},
          "execution_count": 25
        }
      ]
    },
    {
      "cell_type": "markdown",
      "source": [
        "**Single-element tensors** If you have a one-element tensor, for example by aggregating all values of a tensor into one value, you can convert it to a Python numerical value using **item():**"
      ],
      "metadata": {
        "id": "hSAVGctKSwiD"
      }
    },
    {
      "cell_type": "code",
      "source": [
        "x1.sum()\n",
        "print(f\"The sum of X1 : {x1.sum()} and type is : {type(x1.sum())}\")\n",
        "print(f\"The sum of X1 : {x1.sum().item()} and type is : {type(x1.sum().item())}\")"
      ],
      "metadata": {
        "colab": {
          "base_uri": "https://localhost:8080/"
        },
        "id": "RMoK0bQ8SfpK",
        "outputId": "cc51da8e-171d-46c5-a42b-1b7978b88c57"
      },
      "execution_count": 27,
      "outputs": [
        {
          "output_type": "stream",
          "name": "stdout",
          "text": [
            "The sum of X1 : 4.184497833251953 and type is : <class 'torch.Tensor'>\n",
            "The sum of X1 : 4.184497833251953 and type is : <class 'float'>\n"
          ]
        }
      ]
    },
    {
      "cell_type": "code",
      "source": [
        ""
      ],
      "metadata": {
        "id": "zbjrnGBXTINJ"
      },
      "execution_count": null,
      "outputs": []
    }
  ]
}